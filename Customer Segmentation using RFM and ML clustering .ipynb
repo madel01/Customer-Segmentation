{
 "cells": [
  {
   "cell_type": "markdown",
   "id": "3bce045d",
   "metadata": {},
   "source": [
    "## Import libraries "
   ]
  },
  {
   "cell_type": "code",
   "execution_count": 1,
   "id": "af8e9d77",
   "metadata": {},
   "outputs": [],
   "source": [
    "import numpy as np\n",
    "import pandas as pd\n",
    "import matplotlib.pyplot as plt\n",
    "import seaborn as sns\n",
    "import os"
   ]
  },
  {
   "cell_type": "markdown",
   "id": "44503132",
   "metadata": {},
   "source": [
    "## Reading Data"
   ]
  },
  {
   "cell_type": "code",
   "execution_count": 3,
   "id": "3d86b46f",
   "metadata": {},
   "outputs": [
    {
     "name": "stdout",
     "output_type": "stream",
     "text": [
      "<class 'pandas.core.frame.DataFrame'>\n",
      "RangeIndex: 541909 entries, 0 to 541908\n",
      "Data columns (total 8 columns):\n",
      " #   Column       Non-Null Count   Dtype         \n",
      "---  ------       --------------   -----         \n",
      " 0   InvoiceNo    541909 non-null  object        \n",
      " 1   StockCode    541909 non-null  object        \n",
      " 2   Description  540455 non-null  object        \n",
      " 3   Quantity     541909 non-null  int64         \n",
      " 4   InvoiceDate  541909 non-null  datetime64[ns]\n",
      " 5   UnitPrice    541909 non-null  float64       \n",
      " 6   CustomerID   406829 non-null  float64       \n",
      " 7   Country      541909 non-null  object        \n",
      "dtypes: datetime64[ns](1), float64(2), int64(1), object(4)\n",
      "memory usage: 33.1+ MB\n"
     ]
    },
    {
     "data": {
      "text/html": [
       "<div>\n",
       "<style scoped>\n",
       "    .dataframe tbody tr th:only-of-type {\n",
       "        vertical-align: middle;\n",
       "    }\n",
       "\n",
       "    .dataframe tbody tr th {\n",
       "        vertical-align: top;\n",
       "    }\n",
       "\n",
       "    .dataframe thead th {\n",
       "        text-align: right;\n",
       "    }\n",
       "</style>\n",
       "<table border=\"1\" class=\"dataframe\">\n",
       "  <thead>\n",
       "    <tr style=\"text-align: right;\">\n",
       "      <th></th>\n",
       "      <th>Quantity</th>\n",
       "      <th>UnitPrice</th>\n",
       "      <th>CustomerID</th>\n",
       "    </tr>\n",
       "  </thead>\n",
       "  <tbody>\n",
       "    <tr>\n",
       "      <th>count</th>\n",
       "      <td>541909.00</td>\n",
       "      <td>541909.00</td>\n",
       "      <td>406829.00</td>\n",
       "    </tr>\n",
       "    <tr>\n",
       "      <th>mean</th>\n",
       "      <td>9.55</td>\n",
       "      <td>4.61</td>\n",
       "      <td>15287.69</td>\n",
       "    </tr>\n",
       "    <tr>\n",
       "      <th>std</th>\n",
       "      <td>218.08</td>\n",
       "      <td>96.76</td>\n",
       "      <td>1713.60</td>\n",
       "    </tr>\n",
       "    <tr>\n",
       "      <th>min</th>\n",
       "      <td>-80995.00</td>\n",
       "      <td>-11062.06</td>\n",
       "      <td>12346.00</td>\n",
       "    </tr>\n",
       "    <tr>\n",
       "      <th>25%</th>\n",
       "      <td>1.00</td>\n",
       "      <td>1.25</td>\n",
       "      <td>13953.00</td>\n",
       "    </tr>\n",
       "    <tr>\n",
       "      <th>50%</th>\n",
       "      <td>3.00</td>\n",
       "      <td>2.08</td>\n",
       "      <td>15152.00</td>\n",
       "    </tr>\n",
       "    <tr>\n",
       "      <th>75%</th>\n",
       "      <td>10.00</td>\n",
       "      <td>4.13</td>\n",
       "      <td>16791.00</td>\n",
       "    </tr>\n",
       "    <tr>\n",
       "      <th>max</th>\n",
       "      <td>80995.00</td>\n",
       "      <td>38970.00</td>\n",
       "      <td>18287.00</td>\n",
       "    </tr>\n",
       "  </tbody>\n",
       "</table>\n",
       "</div>"
      ],
      "text/plain": [
       "        Quantity  UnitPrice  CustomerID\n",
       "count  541909.00  541909.00   406829.00\n",
       "mean        9.55       4.61    15287.69\n",
       "std       218.08      96.76     1713.60\n",
       "min    -80995.00  -11062.06    12346.00\n",
       "25%         1.00       1.25    13953.00\n",
       "50%         3.00       2.08    15152.00\n",
       "75%        10.00       4.13    16791.00\n",
       "max     80995.00   38970.00    18287.00"
      ]
     },
     "execution_count": 3,
     "metadata": {},
     "output_type": "execute_result"
    }
   ],
   "source": [
    "os.chdir(\"F:\\AI&DS\\ML\\CustomerSegmentProject\\\\\")\n",
    "\n",
    "retail = pd.read_excel(\"Online Retail.xlsx\")\n",
    "\n",
    "retail_df = retail.copy()\n",
    "\n",
    "retail_df.info()\n",
    "\n",
    "retail_df.describe().round(2)"
   ]
  },
  {
   "cell_type": "markdown",
   "id": "3b993011",
   "metadata": {},
   "source": [
    "## Data Cleaning and Exploration "
   ]
  },
  {
   "cell_type": "code",
   "execution_count": 7,
   "id": "77fa980f",
   "metadata": {},
   "outputs": [
    {
     "data": {
      "text/html": [
       "<div>\n",
       "<style scoped>\n",
       "    .dataframe tbody tr th:only-of-type {\n",
       "        vertical-align: middle;\n",
       "    }\n",
       "\n",
       "    .dataframe tbody tr th {\n",
       "        vertical-align: top;\n",
       "    }\n",
       "\n",
       "    .dataframe thead th {\n",
       "        text-align: right;\n",
       "    }\n",
       "</style>\n",
       "<table border=\"1\" class=\"dataframe\">\n",
       "  <thead>\n",
       "    <tr style=\"text-align: right;\">\n",
       "      <th></th>\n",
       "      <th>InvoiceNo</th>\n",
       "      <th>StockCode</th>\n",
       "      <th>Description</th>\n",
       "      <th>Quantity</th>\n",
       "      <th>InvoiceDate</th>\n",
       "      <th>UnitPrice</th>\n",
       "      <th>CustomerID</th>\n",
       "      <th>Country</th>\n",
       "      <th>TotalPrice</th>\n",
       "    </tr>\n",
       "  </thead>\n",
       "  <tbody>\n",
       "    <tr>\n",
       "      <th>0</th>\n",
       "      <td>536365</td>\n",
       "      <td>85123A</td>\n",
       "      <td>WHITE HANGING HEART T-LIGHT HOLDER</td>\n",
       "      <td>6</td>\n",
       "      <td>2010-12-01 08:26:00</td>\n",
       "      <td>2.55</td>\n",
       "      <td>17850.0</td>\n",
       "      <td>United Kingdom</td>\n",
       "      <td>15.30</td>\n",
       "    </tr>\n",
       "    <tr>\n",
       "      <th>1</th>\n",
       "      <td>536365</td>\n",
       "      <td>71053</td>\n",
       "      <td>WHITE METAL LANTERN</td>\n",
       "      <td>6</td>\n",
       "      <td>2010-12-01 08:26:00</td>\n",
       "      <td>3.39</td>\n",
       "      <td>17850.0</td>\n",
       "      <td>United Kingdom</td>\n",
       "      <td>20.34</td>\n",
       "    </tr>\n",
       "    <tr>\n",
       "      <th>2</th>\n",
       "      <td>536365</td>\n",
       "      <td>84406B</td>\n",
       "      <td>CREAM CUPID HEARTS COAT HANGER</td>\n",
       "      <td>8</td>\n",
       "      <td>2010-12-01 08:26:00</td>\n",
       "      <td>2.75</td>\n",
       "      <td>17850.0</td>\n",
       "      <td>United Kingdom</td>\n",
       "      <td>22.00</td>\n",
       "    </tr>\n",
       "    <tr>\n",
       "      <th>3</th>\n",
       "      <td>536365</td>\n",
       "      <td>84029G</td>\n",
       "      <td>KNITTED UNION FLAG HOT WATER BOTTLE</td>\n",
       "      <td>6</td>\n",
       "      <td>2010-12-01 08:26:00</td>\n",
       "      <td>3.39</td>\n",
       "      <td>17850.0</td>\n",
       "      <td>United Kingdom</td>\n",
       "      <td>20.34</td>\n",
       "    </tr>\n",
       "    <tr>\n",
       "      <th>4</th>\n",
       "      <td>536365</td>\n",
       "      <td>84029E</td>\n",
       "      <td>RED WOOLLY HOTTIE WHITE HEART.</td>\n",
       "      <td>6</td>\n",
       "      <td>2010-12-01 08:26:00</td>\n",
       "      <td>3.39</td>\n",
       "      <td>17850.0</td>\n",
       "      <td>United Kingdom</td>\n",
       "      <td>20.34</td>\n",
       "    </tr>\n",
       "  </tbody>\n",
       "</table>\n",
       "</div>"
      ],
      "text/plain": [
       "  InvoiceNo StockCode                          Description  Quantity  \\\n",
       "0    536365    85123A   WHITE HANGING HEART T-LIGHT HOLDER         6   \n",
       "1    536365     71053                  WHITE METAL LANTERN         6   \n",
       "2    536365    84406B       CREAM CUPID HEARTS COAT HANGER         8   \n",
       "3    536365    84029G  KNITTED UNION FLAG HOT WATER BOTTLE         6   \n",
       "4    536365    84029E       RED WOOLLY HOTTIE WHITE HEART.         6   \n",
       "\n",
       "          InvoiceDate  UnitPrice  CustomerID         Country  TotalPrice  \n",
       "0 2010-12-01 08:26:00       2.55     17850.0  United Kingdom       15.30  \n",
       "1 2010-12-01 08:26:00       3.39     17850.0  United Kingdom       20.34  \n",
       "2 2010-12-01 08:26:00       2.75     17850.0  United Kingdom       22.00  \n",
       "3 2010-12-01 08:26:00       3.39     17850.0  United Kingdom       20.34  \n",
       "4 2010-12-01 08:26:00       3.39     17850.0  United Kingdom       20.34  "
      ]
     },
     "execution_count": 7,
     "metadata": {},
     "output_type": "execute_result"
    }
   ],
   "source": [
    "retail_df.isna().sum()\n",
    "\n",
    "retail_df.dropna(inplace=True)\n",
    "\n",
    "retail_df.shape\n",
    "\n",
    "retail_df[\"Description\"]\n",
    "\n",
    "retail_df.groupby('Description').agg({\"Quantity\":\"sum\"}).sort_values(\"Quantity\", ascending=False)\n",
    "\n",
    "retail_df[\"InvoiceNo\"].str.contains('C').count()\n",
    "\n",
    "retail_df[~retail_df[\"InvoiceNo\"].str.contains('C', na=False)]\n",
    "\n",
    "retail_df['TotalPrice'] = retail_df['Quantity'] * retail_df['UnitPrice']\n",
    "\n",
    "retail_df.head()"
   ]
  },
  {
   "cell_type": "markdown",
   "id": "7484a6d3",
   "metadata": {},
   "source": [
    "## RFM Analysis"
   ]
  },
  {
   "cell_type": "code",
   "execution_count": 8,
   "id": "0b1f3ee6",
   "metadata": {},
   "outputs": [
    {
     "data": {
      "text/html": [
       "<div>\n",
       "<style scoped>\n",
       "    .dataframe tbody tr th:only-of-type {\n",
       "        vertical-align: middle;\n",
       "    }\n",
       "\n",
       "    .dataframe tbody tr th {\n",
       "        vertical-align: top;\n",
       "    }\n",
       "\n",
       "    .dataframe thead th {\n",
       "        text-align: right;\n",
       "    }\n",
       "</style>\n",
       "<table border=\"1\" class=\"dataframe\">\n",
       "  <thead>\n",
       "    <tr style=\"text-align: right;\">\n",
       "      <th></th>\n",
       "      <th>Recency</th>\n",
       "      <th>Frequency</th>\n",
       "      <th>Monetary</th>\n",
       "      <th>Recency_score</th>\n",
       "      <th>Frequency_score</th>\n",
       "      <th>Monetary_score</th>\n",
       "      <th>RFM_score</th>\n",
       "      <th>segment</th>\n",
       "    </tr>\n",
       "    <tr>\n",
       "      <th>CustomerID</th>\n",
       "      <th></th>\n",
       "      <th></th>\n",
       "      <th></th>\n",
       "      <th></th>\n",
       "      <th></th>\n",
       "      <th></th>\n",
       "      <th></th>\n",
       "      <th></th>\n",
       "    </tr>\n",
       "  </thead>\n",
       "  <tbody>\n",
       "    <tr>\n",
       "      <th>12347.0</th>\n",
       "      <td>3</td>\n",
       "      <td>7</td>\n",
       "      <td>4310.00</td>\n",
       "      <td>5</td>\n",
       "      <td>4</td>\n",
       "      <td>5</td>\n",
       "      <td>54</td>\n",
       "      <td>champions</td>\n",
       "    </tr>\n",
       "    <tr>\n",
       "      <th>12348.0</th>\n",
       "      <td>76</td>\n",
       "      <td>4</td>\n",
       "      <td>1797.24</td>\n",
       "      <td>2</td>\n",
       "      <td>3</td>\n",
       "      <td>4</td>\n",
       "      <td>23</td>\n",
       "      <td>at_risk</td>\n",
       "    </tr>\n",
       "    <tr>\n",
       "      <th>12349.0</th>\n",
       "      <td>19</td>\n",
       "      <td>1</td>\n",
       "      <td>1757.55</td>\n",
       "      <td>4</td>\n",
       "      <td>1</td>\n",
       "      <td>4</td>\n",
       "      <td>41</td>\n",
       "      <td>promising</td>\n",
       "    </tr>\n",
       "    <tr>\n",
       "      <th>12350.0</th>\n",
       "      <td>311</td>\n",
       "      <td>1</td>\n",
       "      <td>334.40</td>\n",
       "      <td>1</td>\n",
       "      <td>1</td>\n",
       "      <td>2</td>\n",
       "      <td>11</td>\n",
       "      <td>hibernating</td>\n",
       "    </tr>\n",
       "    <tr>\n",
       "      <th>12352.0</th>\n",
       "      <td>37</td>\n",
       "      <td>11</td>\n",
       "      <td>1545.41</td>\n",
       "      <td>3</td>\n",
       "      <td>5</td>\n",
       "      <td>4</td>\n",
       "      <td>35</td>\n",
       "      <td>loyal_customers</td>\n",
       "    </tr>\n",
       "  </tbody>\n",
       "</table>\n",
       "</div>"
      ],
      "text/plain": [
       "            Recency  Frequency  Monetary Recency_score Frequency_score  \\\n",
       "CustomerID                                                               \n",
       "12347.0           3          7   4310.00             5               4   \n",
       "12348.0          76          4   1797.24             2               3   \n",
       "12349.0          19          1   1757.55             4               1   \n",
       "12350.0         311          1    334.40             1               1   \n",
       "12352.0          37         11   1545.41             3               5   \n",
       "\n",
       "           Monetary_score RFM_score          segment  \n",
       "CustomerID                                            \n",
       "12347.0                 5        54        champions  \n",
       "12348.0                 4        23          at_risk  \n",
       "12349.0                 4        41        promising  \n",
       "12350.0                 2        11      hibernating  \n",
       "12352.0                 4        35  loyal_customers  "
      ]
     },
     "execution_count": 8,
     "metadata": {},
     "output_type": "execute_result"
    }
   ],
   "source": [
    "import datetime as dt\n",
    "\n",
    "retail_df['InvoiceDate'].max()\n",
    "\n",
    "today_date = dt.datetime(2011, 12, 11)\n",
    "\n",
    "rfm = retail_df.groupby(\"CustomerID\").agg({'InvoiceDate': lambda date: (today_date-date.max()).days,\n",
    "                                           'InvoiceNo': lambda num: num.nunique(),\n",
    "                                           'TotalPrice': lambda TotalPrice: TotalPrice.sum()})\n",
    "\n",
    "rfm.columns = [\"Recency\",\"Frequency\",\"Monetary\"]\n",
    "\n",
    "rfm = rfm[rfm[\"Monetary\"] > 0]\n",
    "\n",
    "rfm[\"Recency_score\"] = pd.qcut(rfm[\"Recency\"],5,labels=[5,4,3,2,1])\n",
    "\n",
    "rfm[\"Frequency_score\"] = pd.qcut(rfm[\"Frequency\"].rank(method='first'),5,labels=[1,2,3,4,5])\n",
    "\n",
    "rfm[\"Monetary_score\"] = pd.qcut(rfm[\"Monetary\"],5,labels=[1,2,3,4,5])\n",
    "\n",
    "rfm[\"RFM_score\"] = (rfm[\"Recency_score\"].astype(str) + rfm[\"Frequency_score\"].astype(str))\n",
    "\n",
    "seg_map = {\n",
    "    \n",
    "    r'[1-2][1-2]' : 'hibernating',\n",
    "    r'[1-2][3-4]' : 'at_risk',\n",
    "    r'[1-2]5' : 'cant_loose',\n",
    "    r'3[1-2]' : 'about_to_sleep',\n",
    "    r'33' : 'need_attention',\n",
    "    r'[3-4][4-5]' : 'loyal_customers',\n",
    "    r'41' : 'promising',\n",
    "    r'51' : 'new_customers',\n",
    "    r'[4-5][2-3]' : 'pot_loyal',\n",
    "    r'5[4-5]' : 'champions'\n",
    "    }\n",
    "\n",
    "rfm['segment'] = rfm['RFM_score'].replace(seg_map, regex=True)\n",
    "\n",
    "rfm.head()"
   ]
  },
  {
   "cell_type": "markdown",
   "id": "4301de6e",
   "metadata": {},
   "source": [
    "## 2D visualization of RFM Analysis"
   ]
  },
  {
   "cell_type": "code",
   "execution_count": 9,
   "id": "8c60e419",
   "metadata": {},
   "outputs": [
    {
     "data": {
      "image/png": "[encoded data removed]",
      "text/plain": [
       "<Figure size 432x288 with 1 Axes>"
      ]
     },
     "metadata": {
      "needs_background": "light"
     },
     "output_type": "display_data"
    }
   ],
   "source": [
    "seg_list = list(seg_map.values())\n",
    "for i in range(1,11):\n",
    "    plt.scatter(rfm['Recency'][rfm['segment']==seg_list[i-1]] , rfm['Frequency'][rfm['segment']==seg_list[i-1]], label = 'Cluster '+str(i))\n",
    "plt.title('Clusters of customers')\n",
    "plt.xlabel('Recency')\n",
    "plt.ylabel('Frequncy')\n",
    "plt.legend()\n",
    "plt.show()"
   ]
  },
  {
   "cell_type": "markdown",
   "id": "86a16a7a",
   "metadata": {},
   "source": [
    "## K-means clustring"
   ]
  },
  {
   "cell_type": "code",
   "execution_count": 10,
   "id": "9b6c81e3",
   "metadata": {},
   "outputs": [],
   "source": [
    "from sklearn.cluster import KMeans\n",
    "\n",
    "X = rfm.iloc[:,[0,1]].values"
   ]
  },
  {
   "cell_type": "markdown",
   "id": "a76d6393",
   "metadata": {},
   "source": [
    "## Elbow Method"
   ]
  },
  {
   "cell_type": "code",
   "execution_count": 11,
   "id": "89ac7be2",
   "metadata": {},
   "outputs": [
    {
     "data": {
      "text/plain": [
       "[<matplotlib.lines.Line2D at 0x1b3ab9aa250>]"
      ]
     },
     "execution_count": 11,
     "metadata": {},
     "output_type": "execute_result"
    },
    {
     "data": {
      "image/png": "[encoded data removed]",
      "text/plain": [
       "<Figure size 432x288 with 1 Axes>"
      ]
     },
     "metadata": {
      "needs_background": "light"
     },
     "output_type": "display_data"
    }
   ],
   "source": [
    "wcss = []\n",
    "for i in range(1,15):\n",
    "    kmeans = KMeans(n_clusters=i, init=\"k-means++\", random_state=42)\n",
    "    kmeans.fit(X) ## it just fits the model and doesn't return the labels, you can access them using kmeans.labels_\n",
    "    wcss.append(kmeans.inertia_)\n",
    "    \n",
    "plt.plot(range(1,15), wcss)"
   ]
  },
  {
   "cell_type": "markdown",
   "id": "f425c937",
   "metadata": {},
   "source": [
    "## Fitting the model and test"
   ]
  },
  {
   "cell_type": "code",
   "execution_count": 12,
   "id": "84c81e7b",
   "metadata": {},
   "outputs": [
    {
     "name": "stdout",
     "output_type": "stream",
     "text": [
      "the cluster is  [10]\n"
     ]
    }
   ],
   "source": [
    "kmeans = KMeans(n_clusters=10, init=\"k-means++\", random_state=42)\n",
    "y_kmeans = kmeans.fit_predict(X)\n",
    "\n",
    "\n",
    "y_test = kmeans.predict([[100,10]])\n",
    "print(\"the cluster is \",y_test+1)"
   ]
  },
  {
   "cell_type": "markdown",
   "id": "c62302a5",
   "metadata": {},
   "source": [
    "##  2D visualization of clustring\n"
   ]
  },
  {
   "cell_type": "code",
   "execution_count": 13,
   "id": "939a6fbc",
   "metadata": {},
   "outputs": [
    {
     "data": {
      "image/png": "[encoded data removed]",
      "text/plain": [
       "<Figure size 432x288 with 1 Axes>"
      ]
     },
     "metadata": {
      "needs_background": "light"
     },
     "output_type": "display_data"
    }
   ],
   "source": [
    "for i in range(1,11):\n",
    "    plt.scatter(X[y_kmeans == i-1, 0], X[y_kmeans == i-1, 1], s = 50, label = 'Cluster '+str(i))\n",
    "plt.title('Clusters of customers')\n",
    "plt.xlabel('Recency')\n",
    "plt.ylabel('Frequncy')\n",
    "plt.legend()\n",
    "plt.show()"
   ]
  }
 ],
 "metadata": {
  "kernelspec": {
   "display_name": "Python 3",
   "language": "python",
   "name": "python3"
  },
  "language_info": {
   "codemirror_mode": {
    "name": "ipython",
    "version": 3
   },
   "file_extension": ".py",
   "mimetype": "text/x-python",
   "name": "python",
   "nbconvert_exporter": "python",
   "pygments_lexer": "ipython3",
   "version": "3.8.8"
  }
 },
 "nbformat": 4,
 "nbformat_minor": 5
}
